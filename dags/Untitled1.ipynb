{
 "cells": [
  {
   "cell_type": "code",
   "execution_count": 21,
   "id": "026e8f1b-2230-443d-88ce-923ed974e140",
   "metadata": {},
   "outputs": [
    {
     "data": {
      "text/html": [
       "<pre style=\"white-space:pre;overflow-x:auto;line-height:normal;font-family:Menlo,'DejaVu Sans Mono',consolas,'Courier New',monospace\"><span style=\"color: #808000; text-decoration-color: #808000; font-weight: bold\">/tmp/ipykernel_13803/3221308942.py:</span><span style=\"color: #808000; text-decoration-color: #808000; font-weight: bold\">2</span><span style=\"color: #808000; text-decoration-color: #808000; font-weight: bold\"> DeprecationWarning</span><span style=\"color: #808000; text-decoration-color: #808000\">: The `airflow.operators.python_operator.PythonOperator` class is deprecated. Please use `</span><span style=\"color: #808000; text-decoration-color: #808000\">'airflow.operators.python.PythonOperator'</span><span style=\"color: #808000; text-decoration-color: #808000\">`.</span>\n",
       "</pre>\n"
      ],
      "text/plain": [
       "\u001b[1;33m/tmp/ipykernel_13803/\u001b[0m\u001b[1;33m3221308942.py\u001b[0m\u001b[1;33m:\u001b[0m\u001b[1;33m2\u001b[0m\u001b[1;33m DeprecationWarning\u001b[0m\u001b[33m: The `airflow.operators.python_operator.PythonOperator` class is deprecated. Please use `\u001b[0m\u001b[33m'airflow.operators.python.PythonOperator'\u001b[0m\u001b[33m`.\u001b[0m\n"
      ]
     },
     "metadata": {},
     "output_type": "display_data"
    }
   ],
   "source": [
    "from airflow import DAG\n",
    "from airflow.operators.python_operator import PythonOperator\n",
    "from datetime import datetime, timedelta\n"
   ]
  },
  {
   "cell_type": "code",
   "execution_count": 16,
   "id": "49b91d9a-bcfa-413e-aaee-cf0edefe04cb",
   "metadata": {},
   "outputs": [],
   "source": [
    "from lib.pg_connect import PgConnect, ConnectionBuilder"
   ]
  },
  {
   "cell_type": "code",
   "execution_count": 27,
   "id": "96f2d27b-c974-4463-9098-330700dcd2f2",
   "metadata": {},
   "outputs": [
    {
     "data": {
      "text/html": [
       "<pre style=\"white-space:pre;overflow-x:auto;line-height:normal;font-family:Menlo,'DejaVu Sans Mono',consolas,'Courier New',monospace\"><span style=\"color: #808000; text-decoration-color: #808000; font-weight: bold\">/tmp/ipykernel_13803/1338772803.py:</span><span style=\"color: #808000; text-decoration-color: #808000; font-weight: bold\">2</span><span style=\"color: #808000; text-decoration-color: #808000; font-weight: bold\"> DeprecationWarning</span><span style=\"color: #808000; text-decoration-color: #808000\">: The `airflow.operators.python_operator.PythonOperator` class is deprecated. Please use `</span><span style=\"color: #808000; text-decoration-color: #808000\">'airflow.operators.python.PythonOperator'</span><span style=\"color: #808000; text-decoration-color: #808000\">`.</span>\n",
       "</pre>\n"
      ],
      "text/plain": [
       "\u001b[1;33m/tmp/ipykernel_13803/\u001b[0m\u001b[1;33m1338772803.py\u001b[0m\u001b[1;33m:\u001b[0m\u001b[1;33m2\u001b[0m\u001b[1;33m DeprecationWarning\u001b[0m\u001b[33m: The `airflow.operators.python_operator.PythonOperator` class is deprecated. Please use `\u001b[0m\u001b[33m'airflow.operators.python.PythonOperator'\u001b[0m\u001b[33m`.\u001b[0m\n"
      ]
     },
     "metadata": {},
     "output_type": "display_data"
    },
    {
     "data": {
      "text/html": [
       "<pre style=\"white-space:pre;overflow-x:auto;line-height:normal;font-family:Menlo,'DejaVu Sans Mono',consolas,'Courier New',monospace\"><span style=\"color: #808000; text-decoration-color: #808000; font-weight: bold\">/tmp/ipykernel_13803/1338772803.py:</span><span style=\"color: #808000; text-decoration-color: #808000; font-weight: bold\">15</span><span style=\"color: #808000; text-decoration-color: #808000; font-weight: bold\"> RemovedInAirflow3Warning</span><span style=\"color: #808000; text-decoration-color: #808000\">: Param `schedule_interval` is deprecated and will be removed in a future release. Please use `schedule` instead.</span>\n",
       "</pre>\n"
      ],
      "text/plain": [
       "\u001b[1;33m/tmp/ipykernel_13803/\u001b[0m\u001b[1;33m1338772803.py\u001b[0m\u001b[1;33m:\u001b[0m\u001b[1;33m15\u001b[0m\u001b[1;33m RemovedInAirflow3Warning\u001b[0m\u001b[33m: Param `schedule_interval` is deprecated and will be removed in a future release. Please use `schedule` instead.\u001b[0m\n"
      ]
     },
     "metadata": {},
     "output_type": "display_data"
    }
   ],
   "source": [
    "from airflow import DAG\n",
    "from airflow.operators.python_operator import PythonOperator\n",
    "from datetime import datetime, timedelta\n",
    "\n",
    "from lib.pg_connect import PgConnect, ConnectionBuilder\n",
    "# Define the default arguments for the DAG\n",
    "default_args = {\n",
    "    'owner': 'your_name',\n",
    "    'start_date': datetime(2023, 11, 3),\n",
    "    'retries': 1,\n",
    "    'retry_delay': timedelta(minutes=5),\n",
    "}\n",
    "\n",
    "# Define the DAG\n",
    "dag = DAG(\n",
    "    'fetch_data_from_postgresql',\n",
    "    default_args=default_args,\n",
    "    schedule_interval='@daily',  # Run once daily\n",
    "    catchup=False,\n",
    "    tags=['data_fetch'],\n",
    ")\n",
    "\n",
    "# Define a Python function to fetch data from PostgreSQL\n",
    "def fetch_data_from_postgresql():\n",
    "    print('trying')\n",
    "    # Create a connection to the PostgreSQL database\n",
    "    pg_source = ConnectionBuilder.pg_conn('PG_ORIGIN_BONUS_SYSTEM_CONNECTION')\n",
    "\n",
    "    # Define your SQL query to fetch data\n",
    "    sql_query = \"\"\"\n",
    "    SELECT *\n",
    "    FROM your_table;\n",
    "    \"\"\"\n",
    "\n",
    "    # Execute the SQL query using the context manager\n",
    "    with pg_source.connection() as conn:\n",
    "        with conn.cursor() as cur:\n",
    "            cur.execute(sql_query)\n",
    "            result = cur.fetchall()\n",
    "            # You can process the 'result' here, or simply fetch it and not send it anywhere\n",
    "    print(result)\n",
    "\n",
    "# Create a PythonOperator to run the function\n",
    "fetch_data_task = PythonOperator(\n",
    "    task_id='fetch_data_from_postgresql_task',\n",
    "    python_callable=fetch_data_from_postgresql,\n",
    "    dag=dag,\n",
    ")\n",
    "\n"
   ]
  },
  {
   "cell_type": "code",
   "execution_count": 28,
   "id": "7461bd15-8e8c-4d7d-94ed-2cd89f6a788e",
   "metadata": {},
   "outputs": [
    {
     "name": "stdout",
     "output_type": "stream",
     "text": [
      "trying\n",
      "[\u001b[34m2023-11-03T14:24:52.000+1100\u001b[0m] {\u001b[34mconnection.py:\u001b[0m471} ERROR\u001b[0m - Unable to retrieve connection from secrets backend (MetastoreBackend). Checking subsequent secrets backend.\u001b[0m\n",
      "Traceback (most recent call last):\n",
      "  File \"/home/vp/projects/yandex-de/sprint5/s5-lessons/venv/lib/python3.10/site-packages/sqlalchemy/engine/base.py\", line 1910, in _execute_context\n",
      "    self.dialect.do_execute(\n",
      "  File \"/home/vp/projects/yandex-de/sprint5/s5-lessons/venv/lib/python3.10/site-packages/sqlalchemy/engine/default.py\", line 736, in do_execute\n",
      "    cursor.execute(statement, parameters)\n",
      "sqlite3.OperationalError: no such table: connection\n",
      "\n",
      "The above exception was the direct cause of the following exception:\n",
      "\n",
      "Traceback (most recent call last):\n",
      "  File \"/home/vp/projects/yandex-de/sprint5/s5-lessons/venv/lib/python3.10/site-packages/airflow/models/connection.py\", line 466, in get_connection_from_secrets\n",
      "    conn = secrets_backend.get_connection(conn_id=conn_id)\n",
      "  File \"/home/vp/projects/yandex-de/sprint5/s5-lessons/venv/lib/python3.10/site-packages/airflow/utils/session.py\", line 77, in wrapper\n",
      "    return func(*args, session=session, **kwargs)\n",
      "  File \"/home/vp/projects/yandex-de/sprint5/s5-lessons/venv/lib/python3.10/site-packages/airflow/secrets/metastore.py\", line 42, in get_connection\n",
      "    conn = session.scalar(select(Connection).where(Connection.conn_id == conn_id).limit(1))\n",
      "  File \"/home/vp/projects/yandex-de/sprint5/s5-lessons/venv/lib/python3.10/site-packages/sqlalchemy/orm/session.py\", line 1747, in scalar\n",
      "    return self.execute(\n",
      "  File \"/home/vp/projects/yandex-de/sprint5/s5-lessons/venv/lib/python3.10/site-packages/sqlalchemy/orm/session.py\", line 1717, in execute\n",
      "    result = conn._execute_20(statement, params or {}, execution_options)\n",
      "  File \"/home/vp/projects/yandex-de/sprint5/s5-lessons/venv/lib/python3.10/site-packages/sqlalchemy/engine/base.py\", line 1710, in _execute_20\n",
      "    return meth(self, args_10style, kwargs_10style, execution_options)\n",
      "  File \"/home/vp/projects/yandex-de/sprint5/s5-lessons/venv/lib/python3.10/site-packages/sqlalchemy/sql/elements.py\", line 334, in _execute_on_connection\n",
      "    return connection._execute_clauseelement(\n",
      "  File \"/home/vp/projects/yandex-de/sprint5/s5-lessons/venv/lib/python3.10/site-packages/sqlalchemy/engine/base.py\", line 1577, in _execute_clauseelement\n",
      "    ret = self._execute_context(\n",
      "  File \"/home/vp/projects/yandex-de/sprint5/s5-lessons/venv/lib/python3.10/site-packages/sqlalchemy/engine/base.py\", line 1953, in _execute_context\n",
      "    self._handle_dbapi_exception(\n",
      "  File \"/home/vp/projects/yandex-de/sprint5/s5-lessons/venv/lib/python3.10/site-packages/sqlalchemy/engine/base.py\", line 2134, in _handle_dbapi_exception\n",
      "    util.raise_(\n",
      "  File \"/home/vp/projects/yandex-de/sprint5/s5-lessons/venv/lib/python3.10/site-packages/sqlalchemy/util/compat.py\", line 211, in raise_\n",
      "    raise exception\n",
      "  File \"/home/vp/projects/yandex-de/sprint5/s5-lessons/venv/lib/python3.10/site-packages/sqlalchemy/engine/base.py\", line 1910, in _execute_context\n",
      "    self.dialect.do_execute(\n",
      "  File \"/home/vp/projects/yandex-de/sprint5/s5-lessons/venv/lib/python3.10/site-packages/sqlalchemy/engine/default.py\", line 736, in do_execute\n",
      "    cursor.execute(statement, parameters)\n",
      "sqlalchemy.exc.OperationalError: (sqlite3.OperationalError) no such table: connection\n",
      "[SQL: SELECT connection.password, connection.extra, connection.id, connection.conn_id, connection.conn_type, connection.description, connection.host, connection.schema, connection.login, connection.port, connection.is_encrypted, connection.is_extra_encrypted \n",
      "FROM connection \n",
      "WHERE connection.conn_id = ?\n",
      " LIMIT ? OFFSET ?]\n",
      "[parameters: ('PG_ORIGIN_BONUS_SYSTEM_CONNECTION', 1, 0)]\n",
      "(Background on this error at: https://sqlalche.me/e/14/e3q8)\n"
     ]
    },
    {
     "ename": "AirflowNotFoundException",
     "evalue": "The conn_id `PG_ORIGIN_BONUS_SYSTEM_CONNECTION` isn't defined",
     "output_type": "error",
     "traceback": [
      "\u001b[0;31m---------------------------------------------------------------------------\u001b[0m",
      "\u001b[0;31mAirflowNotFoundException\u001b[0m                  Traceback (most recent call last)",
      "Cell \u001b[0;32mIn[28], line 1\u001b[0m\n\u001b[0;32m----> 1\u001b[0m \u001b[43mfetch_data_from_postgresql\u001b[49m\u001b[43m(\u001b[49m\u001b[43m)\u001b[49m\n",
      "Cell \u001b[0;32mIn[27], line 27\u001b[0m, in \u001b[0;36mfetch_data_from_postgresql\u001b[0;34m()\u001b[0m\n\u001b[1;32m     25\u001b[0m \u001b[38;5;28mprint\u001b[39m(\u001b[38;5;124m'\u001b[39m\u001b[38;5;124mtrying\u001b[39m\u001b[38;5;124m'\u001b[39m)\n\u001b[1;32m     26\u001b[0m \u001b[38;5;66;03m# Create a connection to the PostgreSQL database\u001b[39;00m\n\u001b[0;32m---> 27\u001b[0m pg_source \u001b[38;5;241m=\u001b[39m \u001b[43mConnectionBuilder\u001b[49m\u001b[38;5;241;43m.\u001b[39;49m\u001b[43mpg_conn\u001b[49m\u001b[43m(\u001b[49m\u001b[38;5;124;43m'\u001b[39;49m\u001b[38;5;124;43mPG_ORIGIN_BONUS_SYSTEM_CONNECTION\u001b[39;49m\u001b[38;5;124;43m'\u001b[39;49m\u001b[43m)\u001b[49m\n\u001b[1;32m     29\u001b[0m \u001b[38;5;66;03m# Define your SQL query to fetch data\u001b[39;00m\n\u001b[1;32m     30\u001b[0m sql_query \u001b[38;5;241m=\u001b[39m \u001b[38;5;124m\"\"\"\u001b[39m\n\u001b[1;32m     31\u001b[0m \u001b[38;5;124mSELECT *\u001b[39m\n\u001b[1;32m     32\u001b[0m \u001b[38;5;124mFROM your_table;\u001b[39m\n\u001b[1;32m     33\u001b[0m \u001b[38;5;124m\u001b[39m\u001b[38;5;124m\"\"\"\u001b[39m\n",
      "File \u001b[0;32m~/projects/yandex-de/sprint5/s5-lessons/dags/lib/pg_connect.py:54\u001b[0m, in \u001b[0;36mConnectionBuilder.pg_conn\u001b[0;34m(conn_id)\u001b[0m\n\u001b[1;32m     52\u001b[0m \u001b[38;5;129m@staticmethod\u001b[39m\n\u001b[1;32m     53\u001b[0m \u001b[38;5;28;01mdef\u001b[39;00m \u001b[38;5;21mpg_conn\u001b[39m(conn_id: \u001b[38;5;28mstr\u001b[39m) \u001b[38;5;241m-\u001b[39m\u001b[38;5;241m>\u001b[39m PgConnect:\n\u001b[0;32m---> 54\u001b[0m     conn \u001b[38;5;241m=\u001b[39m \u001b[43mBaseHook\u001b[49m\u001b[38;5;241;43m.\u001b[39;49m\u001b[43mget_connection\u001b[49m\u001b[43m(\u001b[49m\u001b[43mconn_id\u001b[49m\u001b[43m)\u001b[49m\n\u001b[1;32m     56\u001b[0m     sslmode \u001b[38;5;241m=\u001b[39m \u001b[38;5;124m\"\u001b[39m\u001b[38;5;124mrequire\u001b[39m\u001b[38;5;124m\"\u001b[39m\n\u001b[1;32m     57\u001b[0m     \u001b[38;5;28;01mif\u001b[39;00m \u001b[38;5;124m\"\u001b[39m\u001b[38;5;124msslmode\u001b[39m\u001b[38;5;124m\"\u001b[39m \u001b[38;5;129;01min\u001b[39;00m conn\u001b[38;5;241m.\u001b[39mextra_dejson:\n",
      "File \u001b[0;32m~/projects/yandex-de/sprint5/s5-lessons/venv/lib/python3.10/site-packages/airflow/hooks/base.py:72\u001b[0m, in \u001b[0;36mBaseHook.get_connection\u001b[0;34m(cls, conn_id)\u001b[0m\n\u001b[1;32m     64\u001b[0m \u001b[38;5;250m\u001b[39m\u001b[38;5;124;03m\"\"\"\u001b[39;00m\n\u001b[1;32m     65\u001b[0m \u001b[38;5;124;03mGet connection, given connection id.\u001b[39;00m\n\u001b[1;32m     66\u001b[0m \n\u001b[1;32m     67\u001b[0m \u001b[38;5;124;03m:param conn_id: connection id\u001b[39;00m\n\u001b[1;32m     68\u001b[0m \u001b[38;5;124;03m:return: connection\u001b[39;00m\n\u001b[1;32m     69\u001b[0m \u001b[38;5;124;03m\"\"\"\u001b[39;00m\n\u001b[1;32m     70\u001b[0m \u001b[38;5;28;01mfrom\u001b[39;00m \u001b[38;5;21;01mairflow\u001b[39;00m\u001b[38;5;21;01m.\u001b[39;00m\u001b[38;5;21;01mmodels\u001b[39;00m\u001b[38;5;21;01m.\u001b[39;00m\u001b[38;5;21;01mconnection\u001b[39;00m \u001b[38;5;28;01mimport\u001b[39;00m Connection\n\u001b[0;32m---> 72\u001b[0m conn \u001b[38;5;241m=\u001b[39m \u001b[43mConnection\u001b[49m\u001b[38;5;241;43m.\u001b[39;49m\u001b[43mget_connection_from_secrets\u001b[49m\u001b[43m(\u001b[49m\u001b[43mconn_id\u001b[49m\u001b[43m)\u001b[49m\n\u001b[1;32m     73\u001b[0m log\u001b[38;5;241m.\u001b[39minfo(\u001b[38;5;124m\"\u001b[39m\u001b[38;5;124mUsing connection ID \u001b[39m\u001b[38;5;124m'\u001b[39m\u001b[38;5;132;01m%s\u001b[39;00m\u001b[38;5;124m'\u001b[39m\u001b[38;5;124m for task execution.\u001b[39m\u001b[38;5;124m\"\u001b[39m, conn\u001b[38;5;241m.\u001b[39mconn_id)\n\u001b[1;32m     74\u001b[0m \u001b[38;5;28;01mreturn\u001b[39;00m conn\n",
      "File \u001b[0;32m~/projects/yandex-de/sprint5/s5-lessons/venv/lib/python3.10/site-packages/airflow/models/connection.py:477\u001b[0m, in \u001b[0;36mConnection.get_connection_from_secrets\u001b[0;34m(cls, conn_id)\u001b[0m\n\u001b[1;32m    470\u001b[0m     \u001b[38;5;28;01mexcept\u001b[39;00m \u001b[38;5;167;01mException\u001b[39;00m:\n\u001b[1;32m    471\u001b[0m         log\u001b[38;5;241m.\u001b[39mexception(\n\u001b[1;32m    472\u001b[0m             \u001b[38;5;124m\"\u001b[39m\u001b[38;5;124mUnable to retrieve connection from secrets backend (\u001b[39m\u001b[38;5;132;01m%s\u001b[39;00m\u001b[38;5;124m). \u001b[39m\u001b[38;5;124m\"\u001b[39m\n\u001b[1;32m    473\u001b[0m             \u001b[38;5;124m\"\u001b[39m\u001b[38;5;124mChecking subsequent secrets backend.\u001b[39m\u001b[38;5;124m\"\u001b[39m,\n\u001b[1;32m    474\u001b[0m             \u001b[38;5;28mtype\u001b[39m(secrets_backend)\u001b[38;5;241m.\u001b[39m\u001b[38;5;18m__name__\u001b[39m,\n\u001b[1;32m    475\u001b[0m         )\n\u001b[0;32m--> 477\u001b[0m \u001b[38;5;28;01mraise\u001b[39;00m AirflowNotFoundException(\u001b[38;5;124mf\u001b[39m\u001b[38;5;124m\"\u001b[39m\u001b[38;5;124mThe conn_id `\u001b[39m\u001b[38;5;132;01m{\u001b[39;00mconn_id\u001b[38;5;132;01m}\u001b[39;00m\u001b[38;5;124m` isn\u001b[39m\u001b[38;5;124m'\u001b[39m\u001b[38;5;124mt defined\u001b[39m\u001b[38;5;124m\"\u001b[39m)\n",
      "\u001b[0;31mAirflowNotFoundException\u001b[0m: The conn_id `PG_ORIGIN_BONUS_SYSTEM_CONNECTION` isn't defined"
     ]
    }
   ],
   "source": [
    "fetch_data_from_postgresql()"
   ]
  },
  {
   "cell_type": "code",
   "execution_count": null,
   "id": "f7981b5f-f4f4-44e9-8e8d-fb6343389b03",
   "metadata": {},
   "outputs": [],
   "source": [
    "\n",
    "# Set the task dependencies, add other tasks as needed\n",
    "# Add other tasks as needed\n",
    "\n",
    "fetch_data_task\n",
    "\n",
    "if __name__ == \"__main__\":\n",
    "    dag.cli()"
   ]
  },
  {
   "cell_type": "code",
   "execution_count": 33,
   "id": "84e03038-0be4-4563-9327-f0d5c675569a",
   "metadata": {},
   "outputs": [
    {
     "data": {
      "text/html": [
       "<pre style=\"white-space:pre;overflow-x:auto;line-height:normal;font-family:Menlo,'DejaVu Sans Mono',consolas,'Courier New',monospace\"><span style=\"color: #808000; text-decoration-color: #808000; font-weight: bold\">/tmp/ipykernel_13803/242399977.py:</span><span style=\"color: #808000; text-decoration-color: #808000; font-weight: bold\">2</span><span style=\"color: #808000; text-decoration-color: #808000; font-weight: bold\"> DeprecationWarning</span><span style=\"color: #808000; text-decoration-color: #808000\">: The `airflow.operators.python_operator.PythonOperator` class is deprecated. Please use `</span><span style=\"color: #808000; text-decoration-color: #808000\">'airflow.operators.python.PythonOperator'</span><span style=\"color: #808000; text-decoration-color: #808000\">`.</span>\n",
       "</pre>\n"
      ],
      "text/plain": [
       "\u001b[1;33m/tmp/ipykernel_13803/\u001b[0m\u001b[1;33m242399977.py\u001b[0m\u001b[1;33m:\u001b[0m\u001b[1;33m2\u001b[0m\u001b[1;33m DeprecationWarning\u001b[0m\u001b[33m: The `airflow.operators.python_operator.PythonOperator` class is deprecated. Please use `\u001b[0m\u001b[33m'airflow.operators.python.PythonOperator'\u001b[0m\u001b[33m`.\u001b[0m\n"
      ]
     },
     "metadata": {},
     "output_type": "display_data"
    },
    {
     "data": {
      "text/html": [
       "<pre style=\"white-space:pre;overflow-x:auto;line-height:normal;font-family:Menlo,'DejaVu Sans Mono',consolas,'Courier New',monospace\"><span style=\"color: #808000; text-decoration-color: #808000; font-weight: bold\">/tmp/ipykernel_13803/242399977.py:</span><span style=\"color: #808000; text-decoration-color: #808000; font-weight: bold\">3</span><span style=\"color: #808000; text-decoration-color: #808000; font-weight: bold\"> DeprecationWarning</span><span style=\"color: #808000; text-decoration-color: #808000\">: The `airflow.hooks.postgres_hook.PostgresHook` class is deprecated. Please use `</span><span style=\"color: #808000; text-decoration-color: #808000\">'airflow.providers.postgres.hooks.postgres.PostgresHook'</span><span style=\"color: #808000; text-decoration-color: #808000\">`.</span>\n",
       "</pre>\n"
      ],
      "text/plain": [
       "\u001b[1;33m/tmp/ipykernel_13803/\u001b[0m\u001b[1;33m242399977.py\u001b[0m\u001b[1;33m:\u001b[0m\u001b[1;33m3\u001b[0m\u001b[1;33m DeprecationWarning\u001b[0m\u001b[33m: The `airflow.hooks.postgres_hook.PostgresHook` class is deprecated. Please use `\u001b[0m\u001b[33m'airflow.providers.postgres.hooks.postgres.PostgresHook'\u001b[0m\u001b[33m`.\u001b[0m\n"
      ]
     },
     "metadata": {},
     "output_type": "display_data"
    },
    {
     "ename": "ImportError",
     "evalue": "Could not import `airflow.providers.postgres.hooks.postgres.PostgresHook` while trying to import `airflow.hooks.postgres_hook.PostgresHook`.",
     "output_type": "error",
     "traceback": [
      "\u001b[0;31m---------------------------------------------------------------------------\u001b[0m",
      "\u001b[0;31mModuleNotFoundError\u001b[0m                       Traceback (most recent call last)",
      "File \u001b[0;32m~/projects/yandex-de/sprint5/s5-lessons/venv/lib/python3.10/site-packages/airflow/utils/deprecation_tools.py:56\u001b[0m, in \u001b[0;36mgetattr_with_deprecation\u001b[0;34m(imports, module, override_deprecated_classes, extra_message, name)\u001b[0m\n\u001b[1;32m     55\u001b[0m \u001b[38;5;28;01mtry\u001b[39;00m:\n\u001b[0;32m---> 56\u001b[0m     \u001b[38;5;28;01mreturn\u001b[39;00m \u001b[38;5;28mgetattr\u001b[39m(\u001b[43mimportlib\u001b[49m\u001b[38;5;241;43m.\u001b[39;49m\u001b[43mimport_module\u001b[49m\u001b[43m(\u001b[49m\u001b[43mnew_module\u001b[49m\u001b[43m)\u001b[49m, new_class_name)\n\u001b[1;32m     57\u001b[0m \u001b[38;5;28;01mexcept\u001b[39;00m \u001b[38;5;167;01mImportError\u001b[39;00m \u001b[38;5;28;01mas\u001b[39;00m e:\n",
      "File \u001b[0;32m/usr/lib/python3.10/importlib/__init__.py:126\u001b[0m, in \u001b[0;36mimport_module\u001b[0;34m(name, package)\u001b[0m\n\u001b[1;32m    125\u001b[0m         level \u001b[38;5;241m+\u001b[39m\u001b[38;5;241m=\u001b[39m \u001b[38;5;241m1\u001b[39m\n\u001b[0;32m--> 126\u001b[0m \u001b[38;5;28;01mreturn\u001b[39;00m \u001b[43m_bootstrap\u001b[49m\u001b[38;5;241;43m.\u001b[39;49m\u001b[43m_gcd_import\u001b[49m\u001b[43m(\u001b[49m\u001b[43mname\u001b[49m\u001b[43m[\u001b[49m\u001b[43mlevel\u001b[49m\u001b[43m:\u001b[49m\u001b[43m]\u001b[49m\u001b[43m,\u001b[49m\u001b[43m \u001b[49m\u001b[43mpackage\u001b[49m\u001b[43m,\u001b[49m\u001b[43m \u001b[49m\u001b[43mlevel\u001b[49m\u001b[43m)\u001b[49m\n",
      "File \u001b[0;32m<frozen importlib._bootstrap>:1050\u001b[0m, in \u001b[0;36m_gcd_import\u001b[0;34m(name, package, level)\u001b[0m\n",
      "File \u001b[0;32m<frozen importlib._bootstrap>:1027\u001b[0m, in \u001b[0;36m_find_and_load\u001b[0;34m(name, import_)\u001b[0m\n",
      "File \u001b[0;32m<frozen importlib._bootstrap>:992\u001b[0m, in \u001b[0;36m_find_and_load_unlocked\u001b[0;34m(name, import_)\u001b[0m\n",
      "File \u001b[0;32m<frozen importlib._bootstrap>:241\u001b[0m, in \u001b[0;36m_call_with_frames_removed\u001b[0;34m(f, *args, **kwds)\u001b[0m\n",
      "File \u001b[0;32m<frozen importlib._bootstrap>:1050\u001b[0m, in \u001b[0;36m_gcd_import\u001b[0;34m(name, package, level)\u001b[0m\n",
      "File \u001b[0;32m<frozen importlib._bootstrap>:1027\u001b[0m, in \u001b[0;36m_find_and_load\u001b[0;34m(name, import_)\u001b[0m\n",
      "File \u001b[0;32m<frozen importlib._bootstrap>:992\u001b[0m, in \u001b[0;36m_find_and_load_unlocked\u001b[0;34m(name, import_)\u001b[0m\n",
      "File \u001b[0;32m<frozen importlib._bootstrap>:241\u001b[0m, in \u001b[0;36m_call_with_frames_removed\u001b[0;34m(f, *args, **kwds)\u001b[0m\n",
      "File \u001b[0;32m<frozen importlib._bootstrap>:1050\u001b[0m, in \u001b[0;36m_gcd_import\u001b[0;34m(name, package, level)\u001b[0m\n",
      "File \u001b[0;32m<frozen importlib._bootstrap>:1027\u001b[0m, in \u001b[0;36m_find_and_load\u001b[0;34m(name, import_)\u001b[0m\n",
      "File \u001b[0;32m<frozen importlib._bootstrap>:1004\u001b[0m, in \u001b[0;36m_find_and_load_unlocked\u001b[0;34m(name, import_)\u001b[0m\n",
      "\u001b[0;31mModuleNotFoundError\u001b[0m: No module named 'airflow.providers.postgres'",
      "\nThe above exception was the direct cause of the following exception:\n",
      "\u001b[0;31mImportError\u001b[0m                               Traceback (most recent call last)",
      "Cell \u001b[0;32mIn[33], line 3\u001b[0m\n\u001b[1;32m      1\u001b[0m \u001b[38;5;28;01mfrom\u001b[39;00m \u001b[38;5;21;01mairflow\u001b[39;00m \u001b[38;5;28;01mimport\u001b[39;00m DAG\n\u001b[1;32m      2\u001b[0m \u001b[38;5;28;01mfrom\u001b[39;00m \u001b[38;5;21;01mairflow\u001b[39;00m\u001b[38;5;21;01m.\u001b[39;00m\u001b[38;5;21;01moperators\u001b[39;00m\u001b[38;5;21;01m.\u001b[39;00m\u001b[38;5;21;01mpython_operator\u001b[39;00m \u001b[38;5;28;01mimport\u001b[39;00m PythonOperator\n\u001b[0;32m----> 3\u001b[0m \u001b[38;5;28;01mfrom\u001b[39;00m \u001b[38;5;21;01mairflow\u001b[39;00m\u001b[38;5;21;01m.\u001b[39;00m\u001b[38;5;21;01mhooks\u001b[39;00m\u001b[38;5;21;01m.\u001b[39;00m\u001b[38;5;21;01mpostgres_hook\u001b[39;00m \u001b[38;5;28;01mimport\u001b[39;00m PostgresHook\n\u001b[1;32m      4\u001b[0m \u001b[38;5;28;01mfrom\u001b[39;00m \u001b[38;5;21;01mdatetime\u001b[39;00m \u001b[38;5;28;01mimport\u001b[39;00m datetime\n\u001b[1;32m      6\u001b[0m \u001b[38;5;66;03m# Define your custom function to retrieve columns from tables\u001b[39;00m\n",
      "File \u001b[0;32m~/projects/yandex-de/sprint5/s5-lessons/venv/lib/python3.10/site-packages/airflow/utils/deprecation_tools.py:63\u001b[0m, in \u001b[0;36mgetattr_with_deprecation\u001b[0;34m(imports, module, override_deprecated_classes, extra_message, name)\u001b[0m\n\u001b[1;32m     61\u001b[0m \u001b[38;5;28;01mif\u001b[39;00m extra_message:\n\u001b[1;32m     62\u001b[0m     error_message \u001b[38;5;241m+\u001b[39m\u001b[38;5;241m=\u001b[39m \u001b[38;5;124mf\u001b[39m\u001b[38;5;124m\"\u001b[39m\u001b[38;5;124m \u001b[39m\u001b[38;5;132;01m{\u001b[39;00mextra_message\u001b[38;5;132;01m}\u001b[39;00m\u001b[38;5;124m.\u001b[39m\u001b[38;5;124m\"\u001b[39m\n\u001b[0;32m---> 63\u001b[0m \u001b[38;5;28;01mraise\u001b[39;00m \u001b[38;5;167;01mImportError\u001b[39;00m(error_message) \u001b[38;5;28;01mfrom\u001b[39;00m \u001b[38;5;21;01me\u001b[39;00m\n",
      "\u001b[0;31mImportError\u001b[0m: Could not import `airflow.providers.postgres.hooks.postgres.PostgresHook` while trying to import `airflow.hooks.postgres_hook.PostgresHook`."
     ]
    }
   ],
   "source": [
    "from airflow import DAG\n",
    "from airflow.operators.python_operator import PythonOperator\n",
    "from airflow.hooks.postgres_hook import PostgresHook\n",
    "from datetime import datetime\n",
    "\n",
    "# Define your custom function to retrieve columns from tables\n",
    "def get_columns_from_postgres_table(table_name, connection_id, **kwargs):\n",
    "    # Create a PostgresHook to connect to the database\n",
    "    postgres_hook = PostgresHook(postgres_conn_id=connection_id)\n",
    "    \n",
    "    # Fetch the columns from the specified table\n",
    "    columns = postgres_hook.get_columns(table_name)\n",
    "    \n",
    "    # Print the columns for the table\n",
    "    print(f\"Columns in table '{table_name}':\")\n",
    "    for column in columns:\n",
    "        print(f\"Name: {column[0]}, Type: {column[1]}, Nullable: {column[6]}\")\n",
    "\n",
    "# Define your Airflow DAG\n",
    "dag = DAG('fetch_postgres_columns', start_date=datetime(2023, 11, 3), schedule_interval=None)\n",
    "\n",
    "# Define the tasks to fetch columns for 'ranks' and 'users' tables\n",
    "get_ranks_columns = PythonOperator(\n",
    "    task_id='get_ranks_columns',\n",
    "    python_callable=get_columns_from_postgres_table,\n",
    "    op_args=['ranks', 'PG_ORIGIN_BONUS_SYSTEM_CONNECTION'],\n",
    "    provide_context=True,\n",
    "    dag=dag,\n",
    ")\n",
    "\n",
    "get_users_columns = PythonOperator(\n",
    "    task_id='get_users_columns',\n",
    "    python_callable=get_columns_from_postgres_table,\n",
    "    op_args=['users', 'PG_ORIGIN_BONUS_SYSTEM_CONNECTION'],\n",
    "    provide_context=True,\n",
    "    dag=dag,\n",
    ")\n",
    "\n",
    "# Set the task dependencies\n",
    "get_ranks_columns >> get_users_columns\n"
   ]
  }
 ],
 "metadata": {
  "kernelspec": {
   "display_name": "venv",
   "language": "python",
   "name": "venv"
  },
  "language_info": {
   "codemirror_mode": {
    "name": "ipython",
    "version": 3
   },
   "file_extension": ".py",
   "mimetype": "text/x-python",
   "name": "python",
   "nbconvert_exporter": "python",
   "pygments_lexer": "ipython3",
   "version": "3.10.12"
  }
 },
 "nbformat": 4,
 "nbformat_minor": 5
}
